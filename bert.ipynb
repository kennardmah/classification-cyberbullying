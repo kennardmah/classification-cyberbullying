{
  "nbformat": 4,
  "nbformat_minor": 0,
  "metadata": {
    "colab": {
      "provenance": [],
      "gpuType": "T4",
      "authorship_tag": "ABX9TyN0qULFIJPTYYLDwJYiul3I",
      "include_colab_link": true
    },
    "kernelspec": {
      "name": "python3",
      "display_name": "Python 3"
    },
    "language_info": {
      "name": "python"
    },
    "accelerator": "GPU"
  },
  "cells": [
    {
      "cell_type": "markdown",
      "metadata": {
        "id": "view-in-github",
        "colab_type": "text"
      },
      "source": [
        "<a href=\"https://colab.research.google.com/github/kennardmah/classification-cyberbullying/blob/main/bert.ipynb\" target=\"_parent\"><img src=\"https://colab.research.google.com/assets/colab-badge.svg\" alt=\"Open In Colab\"/></a>"
      ]
    },
    {
      "cell_type": "code",
      "execution_count": 163,
      "metadata": {
        "colab": {
          "base_uri": "https://localhost:8080/"
        },
        "id": "zj-sqYJ2nSZn",
        "outputId": "901fd5c9-4753-4514-fbce-da6c6ed68f95"
      },
      "outputs": [
        {
          "output_type": "stream",
          "name": "stdout",
          "text": [
            "Requirement already satisfied: torchmetrics in /usr/local/lib/python3.10/dist-packages (1.6.0)\n",
            "Requirement already satisfied: numpy>1.20.0 in /usr/local/lib/python3.10/dist-packages (from torchmetrics) (1.26.4)\n",
            "Requirement already satisfied: packaging>17.1 in /usr/local/lib/python3.10/dist-packages (from torchmetrics) (24.2)\n",
            "Requirement already satisfied: torch>=2.0.0 in /usr/local/lib/python3.10/dist-packages (from torchmetrics) (2.5.1+cu121)\n",
            "Requirement already satisfied: lightning-utilities>=0.8.0 in /usr/local/lib/python3.10/dist-packages (from torchmetrics) (0.11.9)\n",
            "Requirement already satisfied: setuptools in /usr/local/lib/python3.10/dist-packages (from lightning-utilities>=0.8.0->torchmetrics) (75.1.0)\n",
            "Requirement already satisfied: typing-extensions in /usr/local/lib/python3.10/dist-packages (from lightning-utilities>=0.8.0->torchmetrics) (4.12.2)\n",
            "Requirement already satisfied: filelock in /usr/local/lib/python3.10/dist-packages (from torch>=2.0.0->torchmetrics) (3.16.1)\n",
            "Requirement already satisfied: networkx in /usr/local/lib/python3.10/dist-packages (from torch>=2.0.0->torchmetrics) (3.4.2)\n",
            "Requirement already satisfied: jinja2 in /usr/local/lib/python3.10/dist-packages (from torch>=2.0.0->torchmetrics) (3.1.4)\n",
            "Requirement already satisfied: fsspec in /usr/local/lib/python3.10/dist-packages (from torch>=2.0.0->torchmetrics) (2024.10.0)\n",
            "Requirement already satisfied: sympy==1.13.1 in /usr/local/lib/python3.10/dist-packages (from torch>=2.0.0->torchmetrics) (1.13.1)\n",
            "Requirement already satisfied: mpmath<1.4,>=1.1.0 in /usr/local/lib/python3.10/dist-packages (from sympy==1.13.1->torch>=2.0.0->torchmetrics) (1.3.0)\n",
            "Requirement already satisfied: MarkupSafe>=2.0 in /usr/local/lib/python3.10/dist-packages (from jinja2->torch>=2.0.0->torchmetrics) (3.0.2)\n"
          ]
        }
      ],
      "source": [
        "! pip install torchmetrics"
      ]
    },
    {
      "cell_type": "code",
      "source": [
        "import torch\n",
        "from torch.utils.data import TensorDataset, DataLoader, RandomSampler, SequentialSampler\n",
        "from transformers import RobertaTokenizer, RobertaForSequenceClassification, AdamW, get_scheduler, BertTokenizer, BertForSequenceClassification\n",
        "from sklearn.model_selection import train_test_split\n",
        "from sklearn.metrics import mean_squared_error, r2_score, classification_report, confusion_matrix\n",
        "\n",
        "import pandas as pd\n",
        "import numpy as np\n",
        "import math\n",
        "\n",
        "from tabulate import tabulate\n",
        "import tqdm\n",
        "import random\n",
        "from torchmetrics.classification import Recall, Accuracy, AUROC, Precision"
      ],
      "metadata": {
        "id": "MFxMyijInWWs"
      },
      "execution_count": 164,
      "outputs": []
    },
    {
      "cell_type": "markdown",
      "source": [
        "### Prepare Data"
      ],
      "metadata": {
        "id": "hBshBWyGxlr8"
      }
    },
    {
      "cell_type": "code",
      "source": [
        "from google.colab import drive\n",
        "drive.mount('/content/drive/')"
      ],
      "metadata": {
        "colab": {
          "base_uri": "https://localhost:8080/"
        },
        "id": "nK1hFJK93VMs",
        "outputId": "8b10949c-a0f0-4b1a-900d-07f9464d37bf"
      },
      "execution_count": 165,
      "outputs": [
        {
          "output_type": "stream",
          "name": "stdout",
          "text": [
            "Drive already mounted at /content/drive/; to attempt to forcibly remount, call drive.mount(\"/content/drive/\", force_remount=True).\n"
          ]
        }
      ]
    },
    {
      "cell_type": "code",
      "source": [
        "path = '/content/drive/MyDrive/ADL/PAPER/cyberbullying_tweets.csv.zip'"
      ],
      "metadata": {
        "id": "8vubeooa3ghc"
      },
      "execution_count": 166,
      "outputs": []
    },
    {
      "cell_type": "code",
      "source": [
        "import zipfile\n",
        "\n",
        "with zipfile.ZipFile(path, 'r') as zip_ref:\n",
        "    zip_ref.extractall()\n",
        "df = pd.read_csv('cyberbullying_tweets.csv')\n",
        "print(df.head())"
      ],
      "metadata": {
        "colab": {
          "base_uri": "https://localhost:8080/"
        },
        "id": "fwq_9jP-3IQS",
        "outputId": "3fe37c72-78b9-48ae-f22d-977291f4d87f"
      },
      "execution_count": 167,
      "outputs": [
        {
          "output_type": "stream",
          "name": "stdout",
          "text": [
            "                                          tweet_text cyberbullying_type\n",
            "0  In other words #katandandre, your food was cra...  not_cyberbullying\n",
            "1  Why is #aussietv so white? #MKR #theblock #ImA...  not_cyberbullying\n",
            "2  @XochitlSuckkks a classy whore? Or more red ve...  not_cyberbullying\n",
            "3  @Jason_Gio meh. :P  thanks for the heads up, b...  not_cyberbullying\n",
            "4  @RudhoeEnglish This is an ISIS account pretend...  not_cyberbullying\n"
          ]
        }
      ]
    },
    {
      "cell_type": "code",
      "source": [
        "df.info()\n",
        "df = df.rename(columns={'tweet_text': 'text', 'cyberbullying_type': 'sentiment'})"
      ],
      "metadata": {
        "colab": {
          "base_uri": "https://localhost:8080/"
        },
        "id": "dmF1Ssi93tWE",
        "outputId": "33ba4015-b9be-4d9c-b5fc-2f884f1709d4"
      },
      "execution_count": 168,
      "outputs": [
        {
          "output_type": "stream",
          "name": "stdout",
          "text": [
            "<class 'pandas.core.frame.DataFrame'>\n",
            "RangeIndex: 47692 entries, 0 to 47691\n",
            "Data columns (total 2 columns):\n",
            " #   Column              Non-Null Count  Dtype \n",
            "---  ------              --------------  ----- \n",
            " 0   tweet_text          47692 non-null  object\n",
            " 1   cyberbullying_type  47692 non-null  object\n",
            "dtypes: object(2)\n",
            "memory usage: 745.3+ KB\n"
          ]
        }
      ]
    },
    {
      "cell_type": "code",
      "source": [
        "df.duplicated().sum()"
      ],
      "metadata": {
        "colab": {
          "base_uri": "https://localhost:8080/"
        },
        "id": "_lpCa90K4dsM",
        "outputId": "5af73052-83bf-4b6f-e941-5d780ef44806"
      },
      "execution_count": 169,
      "outputs": [
        {
          "output_type": "execute_result",
          "data": {
            "text/plain": [
              "36"
            ]
          },
          "metadata": {},
          "execution_count": 169
        }
      ]
    },
    {
      "cell_type": "code",
      "source": [
        "df = df.drop_duplicates()"
      ],
      "metadata": {
        "id": "8mYDhmzd4gEN"
      },
      "execution_count": 170,
      "outputs": []
    },
    {
      "cell_type": "code",
      "source": [
        "# plot distribution\n",
        "import seaborn as sns\n",
        "import matplotlib.pyplot as plt\n",
        "sns.color_palette(\"cubehelix\", as_cmap=True)\n",
        "\n",
        "# change other_cyberbullying to other and not_cyberbullying to none\n",
        "df['sentiment'] = df['sentiment'].replace(['other_cyberbullying'], 'other')\n",
        "df['sentiment'] = df['sentiment'].replace(['not_cyberbullying'], 'none')\n",
        "sns.countplot(x='sentiment', data=df, color='#008080')\n",
        "# fix labeling\n",
        "# plt.title('Sentiment Distribution')\n",
        "plt.xlabel('Type of Bullying')\n",
        "plt.ylabel('Count')\n",
        "plt.tight_layout()\n",
        "plt.show()"
      ],
      "metadata": {
        "colab": {
          "base_uri": "https://localhost:8080/",
          "height": 487
        },
        "id": "EeY2mQhF4kX6",
        "outputId": "f63b7fe6-9be0-466a-d839-fb0db8d0a717"
      },
      "execution_count": 171,
      "outputs": [
        {
          "output_type": "display_data",
          "data": {
            "text/plain": [
              "<Figure size 640x480 with 1 Axes>"
            ],
            "image/png": "[encoded data removed]"
          },
          "metadata": {}
        }
      ]
    },
    {
      "cell_type": "code",
      "source": [
        "!pip install emoji\n",
        "import nltk\n",
        "nltk.download('punkt')\n",
        "nltk.download('wordnet')\n",
        "nltk.download('omw-1.4')\n",
        "nltk.download('stopwords')\n",
        "nltk.download('punkt_tab')"
      ],
      "metadata": {
        "colab": {
          "base_uri": "https://localhost:8080/"
        },
        "id": "Pn6_1FfH5XTp",
        "outputId": "10d393a6-3a96-4c27-e566-14736836e5c8"
      },
      "execution_count": 172,
      "outputs": [
        {
          "output_type": "stream",
          "name": "stdout",
          "text": [
            "Requirement already satisfied: emoji in /usr/local/lib/python3.10/dist-packages (2.14.0)\n"
          ]
        },
        {
          "output_type": "stream",
          "name": "stderr",
          "text": [
            "[nltk_data] Downloading package punkt to /root/nltk_data...\n",
            "[nltk_data]   Package punkt is already up-to-date!\n",
            "[nltk_data] Downloading package wordnet to /root/nltk_data...\n",
            "[nltk_data]   Package wordnet is already up-to-date!\n",
            "[nltk_data] Downloading package omw-1.4 to /root/nltk_data...\n",
            "[nltk_data]   Package omw-1.4 is already up-to-date!\n",
            "[nltk_data] Downloading package stopwords to /root/nltk_data...\n",
            "[nltk_data]   Package stopwords is already up-to-date!\n",
            "[nltk_data] Downloading package punkt_tab to /root/nltk_data...\n",
            "[nltk_data]   Package punkt_tab is already up-to-date!\n"
          ]
        },
        {
          "output_type": "execute_result",
          "data": {
            "text/plain": [
              "True"
            ]
          },
          "metadata": {},
          "execution_count": 172
        }
      ]
    },
    {
      "cell_type": "code",
      "source": [
        "import re\n",
        "import string\n",
        "import emoji\n",
        "from nltk.stem import WordNetLemmatizer, PorterStemmer\n",
        "from nltk.corpus import stopwords\n",
        "\n",
        "def remove_emojis(text):\n",
        "    text = emoji.demojize(text)\n",
        "    text = text.replace(':', ' ')\n",
        "    text = ' '.join(text.split())\n",
        "    return text\n",
        "\n",
        "def remove_urls(text):\n",
        "    url_pattern = re.compile(r'https?://\\S+|www\\.\\S+')\n",
        "    return url_pattern.sub(r'', text)\n",
        "\n",
        "def remove_html(text):\n",
        "    html_pattern = re.compile('<.*?>')\n",
        "    return html_pattern.sub(r'', text)\n",
        "\n",
        "def remove_punctuations(text):\n",
        "    translator = str.maketrans('', '', string.punctuation)\n",
        "    return text.translate(translator)\n",
        "\n",
        "def remove_stopwords(text):\n",
        "    stop_words = set(stopwords.words('english'))\n",
        "    word_tokens = nltk.word_tokenize(text)\n",
        "    filtered_text = [word for word in word_tokens if word.lower() not in stop_words]\n",
        "    return ' '.join(filtered_text)\n",
        "\n",
        "def lemmatize_words(text):\n",
        "    lemmatizer = WordNetLemmatizer()\n",
        "    word_tokens = nltk.word_tokenize(text)\n",
        "    return ' '.join([lemmatizer.lemmatize(word) for word in word_tokens])\n",
        "\n",
        "def stem_words(text):\n",
        "    stemmer = PorterStemmer()\n",
        "    word_tokens = nltk.word_tokenize(text)\n",
        "    return ' '.join([stemmer.stem(word) for word in word_tokens])\n",
        "\n",
        "def preprocess_text(text):\n",
        "    text = remove_emojis(text)\n",
        "    text = remove_urls(text)\n",
        "    text = remove_html(text)\n",
        "    text = remove_punctuations(text)\n",
        "    text = remove_stopwords(text)\n",
        "    text = lemmatize_words(text)\n",
        "    text = stem_words(text)\n",
        "    return text\n",
        "\n",
        "df['text'] = df['text'].apply(preprocess_text)"
      ],
      "metadata": {
        "id": "2IIy2LB34226"
      },
      "execution_count": 173,
      "outputs": []
    },
    {
      "cell_type": "code",
      "source": [
        "# plot tweets by length\n",
        "df['tweet_length'] = df['text'].apply(lambda x: len(x.split()))\n",
        "sns.histplot(df['tweet_length'], bins=50, kde=True, color='#008080')\n",
        "# plt.title('Distribution of Tweet Lengths')\n",
        "plt.xlabel('Tweet Length')\n",
        "plt.ylabel('Count')\n",
        "plt.tight_layout()\n",
        "plt.show()\n",
        "\n",
        "# filter out tweets over 50 words\n",
        "df = df[df['tweet_length'] <= 30]\n",
        "\n",
        "df.drop('tweet_length', axis=1, inplace=True)\n"
      ],
      "metadata": {
        "colab": {
          "base_uri": "https://localhost:8080/",
          "height": 574
        },
        "id": "crGKDp86QF3j",
        "outputId": "42d8b52d-0422-43bb-f774-2231dfc6d168"
      },
      "execution_count": 174,
      "outputs": [
        {
          "output_type": "display_data",
          "data": {
            "text/plain": [
              "<Figure size 640x480 with 1 Axes>"
            ],
            "image/png": "[encoded data removed]"
          },
          "metadata": {}
        },
        {
          "output_type": "stream",
          "name": "stderr",
          "text": [
            "<ipython-input-174-9ef9c9a3e4eb>:13: SettingWithCopyWarning: \n",
            "A value is trying to be set on a copy of a slice from a DataFrame\n",
            "\n",
            "See the caveats in the documentation: https://pandas.pydata.org/pandas-docs/stable/user_guide/indexing.html#returning-a-view-versus-a-copy\n",
            "  df.drop('tweet_length', axis=1, inplace=True)\n"
          ]
        }
      ]
    },
    {
      "cell_type": "markdown",
      "source": [
        "### Tokenization"
      ],
      "metadata": {
        "id": "AeJBkw9Fxm7K"
      }
    },
    {
      "cell_type": "code",
      "source": [
        "tokenizer = BertTokenizer.from_pretrained('bert-base-uncased', do_lower_case=True)\n",
        "\n",
        "token_ids = []\n",
        "attention_masks = []\n",
        "\n",
        "def preprocessing(input_text, tokenizer):\n",
        "    return tokenizer.encode_plus(\n",
        "        input_text,\n",
        "        add_special_tokens=True,\n",
        "        max_length=128,\n",
        "        pad_to_max_length=True,\n",
        "        return_attention_mask=True,\n",
        "        return_tensors='pt'\n",
        "    )\n",
        "\n",
        "for text in df.text:\n",
        "    encoding_dict = preprocessing(text, tokenizer)\n",
        "    token_ids.append(encoding_dict['input_ids'])\n",
        "    attention_masks.append(encoding_dict['attention_mask'])\n",
        "\n",
        "token_ids = torch.cat(token_ids, dim=0)\n",
        "attention_masks = torch.cat(attention_masks, dim=0)"
      ],
      "metadata": {
        "colab": {
          "base_uri": "https://localhost:8080/"
        },
        "id": "7784psYc6c1J",
        "outputId": "849fa62e-2919-408e-dee5-f8201a7bbf56"
      },
      "execution_count": 175,
      "outputs": [
        {
          "output_type": "stream",
          "name": "stderr",
          "text": [
            "Truncation was not explicitly activated but `max_length` is provided a specific value, please use `truncation=True` to explicitly truncate examples to max length. Defaulting to 'longest_first' truncation strategy. If you encode pairs of sequences (GLUE-style) with the tokenizer you can select this strategy more precisely by providing a specific strategy to `truncation`.\n",
            "/usr/local/lib/python3.10/dist-packages/transformers/tokenization_utils_base.py:2834: FutureWarning: The `pad_to_max_length` argument is deprecated and will be removed in a future version, use `padding=True` or `padding='longest'` to pad to the longest sequence in the batch, or use `padding='max_length'` to pad to a max length. In this case, you can give a specific length with `max_length` (e.g. `max_length=45`) or leave max_length to None to pad to the maximal input size of the model (e.g. 512 for Bert).\n",
            "  warnings.warn(\n"
          ]
        }
      ]
    },
    {
      "cell_type": "code",
      "source": [
        "labels = df['sentiment'].map({'none': 0, 'gender': 1, 'religion': 2, 'ethnicity': 3, 'age': 4, 'other': 5}).values\n",
        "labels = torch.tensor(labels)"
      ],
      "metadata": {
        "id": "GU-uS4SC8qac"
      },
      "execution_count": 176,
      "outputs": []
    },
    {
      "cell_type": "code",
      "source": [
        "val_ratio = 0.2\n",
        "batch_size = 16\n",
        "\n",
        "train_idx, val_idx = train_test_split(\n",
        "    np.arange(len(df)),\n",
        "    test_size=val_ratio,\n",
        "    shuffle=True,\n",
        "    stratify=labels\n",
        ")\n",
        "\n",
        "train_set = TensorDataset(token_ids[train_idx],\n",
        "                          attention_masks[train_idx],\n",
        "                          labels[train_idx])\n",
        "\n",
        "val_set = TensorDataset(token_ids[val_idx],\n",
        "                        attention_masks[val_idx],\n",
        "                        labels[val_idx])\n",
        "\n",
        "train_loader = DataLoader(\n",
        "    train_set,\n",
        "    sampler=RandomSampler(train_set),\n",
        "    batch_size=batch_size\n",
        ")\n",
        "\n",
        "val_loader = DataLoader(\n",
        "    val_set,\n",
        "    sampler=SequentialSampler(val_set),\n",
        "    batch_size=batch_size\n",
        ")"
      ],
      "metadata": {
        "id": "ZU8O9HeE8gTd"
      },
      "execution_count": 177,
      "outputs": []
    },
    {
      "cell_type": "code",
      "source": [
        "print('{:>5,} training samples'.format(train_set.__len__()))\n",
        "print('{:>5,} validation samples'.format(val_set.__len__()))"
      ],
      "metadata": {
        "colab": {
          "base_uri": "https://localhost:8080/"
        },
        "id": "eSVjP8tn9GNL",
        "outputId": "8aad3319-e2d1-4621-81b2-6ce810894179"
      },
      "execution_count": 178,
      "outputs": [
        {
          "output_type": "stream",
          "name": "stdout",
          "text": [
            "36,960 training samples\n",
            "9,241 validation samples\n"
          ]
        }
      ]
    },
    {
      "cell_type": "code",
      "source": [
        "fine_tune = True\n",
        "epochs = 3\n",
        "learning_rate = [2e-5, 3e-5, 5e-5][1]"
      ],
      "metadata": {
        "id": "ZIKf454m9g0W"
      },
      "execution_count": 179,
      "outputs": []
    },
    {
      "cell_type": "code",
      "source": [
        "model = BertForSequenceClassification.from_pretrained(\n",
        "    'bert-base-uncased',\n",
        "    num_labels=6,\n",
        "    output_attentions=False,\n",
        "    output_hidden_states=False\n",
        ")\n",
        "\n",
        "total_parameters = 0\n",
        "\n",
        "for name, param in model.named_parameters():\n",
        "    param.requires_grad = False\n",
        "    if 'classifier' in name:\n",
        "        param.requires_grad = True\n",
        "        total_parameters += param.numel()\n",
        "\n",
        "print(f'Total parameters (no fine tune): {total_parameters}')\n",
        "\n",
        "if fine_tune:\n",
        "    for name, param in model.named_parameters():\n",
        "        param.requires_grad = True\n",
        "        total_parameters += param.numel()\n",
        "\n",
        "print(f'Total parameters (fine tune): {total_parameters}')"
      ],
      "metadata": {
        "colab": {
          "base_uri": "https://localhost:8080/"
        },
        "id": "XwNmRGLa9MoP",
        "outputId": "9064b94a-976d-4b0d-e7f8-e3e9904493ee"
      },
      "execution_count": 180,
      "outputs": [
        {
          "output_type": "stream",
          "name": "stderr",
          "text": [
            "Some weights of BertForSequenceClassification were not initialized from the model checkpoint at bert-base-uncased and are newly initialized: ['classifier.bias', 'classifier.weight']\n",
            "You should probably TRAIN this model on a down-stream task to be able to use it for predictions and inference.\n"
          ]
        },
        {
          "output_type": "stream",
          "name": "stdout",
          "text": [
            "Total parameters (no fine tune): 4614\n",
            "Total parameters (fine tune): 109491468\n"
          ]
        }
      ]
    },
    {
      "cell_type": "code",
      "source": [
        "import platform\n",
        "\n",
        "# Pick the system you have and select GPU if you can\n",
        "if platform.system() == 'Darwin':\n",
        "    device = torch.device('mps') if torch.backends.mps.is_available() else torch.device('cpu')\n",
        "elif platform.system() == 'Linux':\n",
        "    device = torch.device('cuda') if torch.cuda.is_available() else torch.device('cpu')\n",
        "else:\n",
        "    device = torch.device('cpu')\n",
        "print(device)"
      ],
      "metadata": {
        "colab": {
          "base_uri": "https://localhost:8080/"
        },
        "id": "EDji_jQt_oAa",
        "outputId": "56c50910-7418-4620-dc2d-2f38cabc02be"
      },
      "execution_count": 181,
      "outputs": [
        {
          "output_type": "stream",
          "name": "stdout",
          "text": [
            "cuda\n"
          ]
        }
      ]
    },
    {
      "cell_type": "code",
      "source": [
        "optimizer = AdamW(model.parameters(), lr=learning_rate, eps=1e-8)"
      ],
      "metadata": {
        "id": "CkOSvMyvxpVY",
        "colab": {
          "base_uri": "https://localhost:8080/"
        },
        "outputId": "352ed939-5732-4ba5-c9b3-f7ff8426835c"
      },
      "execution_count": 182,
      "outputs": [
        {
          "output_type": "stream",
          "name": "stderr",
          "text": [
            "/usr/local/lib/python3.10/dist-packages/transformers/optimization.py:591: FutureWarning: This implementation of AdamW is deprecated and will be removed in a future version. Use the PyTorch implementation torch.optim.AdamW instead, or set `no_deprecation_warning=True` to disable this warning\n",
            "  warnings.warn(\n"
          ]
        }
      ]
    },
    {
      "cell_type": "markdown",
      "source": [
        "### Train the model"
      ],
      "metadata": {
        "id": "XJn6WVIIAJ-f"
      }
    },
    {
      "cell_type": "code",
      "source": [
        "_ = model.to(device)"
      ],
      "metadata": {
        "id": "ZG_X7nM9GTiZ"
      },
      "execution_count": 183,
      "outputs": []
    },
    {
      "cell_type": "code",
      "source": [
        "all_preds = {}\n",
        "all_labels = {}\n",
        "all_logits = {}\n",
        "\n",
        "for _ in tqdm.tqdm(range(1)):\n",
        "    model.train()\n",
        "    training_loss = 0\n",
        "    nb_tr_examples, nb_tr_steps = 0, 0\n",
        "\n",
        "    for step, batch in enumerate(train_loader):\n",
        "        batch = tuple(t.to(device) for t in batch)\n",
        "        b_input_ids, b_input_mask, b_labels = batch\n",
        "        optimizer.zero_grad()\n",
        "\n",
        "        train_output = model(b_input_ids, token_type_ids=None, attention_mask=b_input_mask, labels=b_labels)\n",
        "        train_output.loss.backward()\n",
        "\n",
        "        optimizer.step()\n",
        "\n",
        "        training_loss += train_output.loss.item()\n",
        "        nb_tr_examples += b_input_ids.size(0)\n",
        "        nb_tr_steps += 1\n",
        "\n",
        "    model.eval()\n",
        "\n",
        "    val_accuracy = []\n",
        "    val_precision = []\n",
        "    val_recall = []\n",
        "    val_auroc = []\n",
        "    pred_list = []\n",
        "    label_list = []\n",
        "    logit_list = []\n",
        "\n",
        "\n",
        "    for batch in val_loader:\n",
        "        batch = tuple(t.to(device) for t in batch)\n",
        "        b_input_ids, b_input_mask, b_labels = batch\n",
        "        with torch.no_grad():\n",
        "            eval_output = model(b_input_ids, attention_mask=b_input_mask)\n",
        "\n",
        "        labels = b_labels.cpu()\n",
        "        logits = eval_output.logits.cpu() # Store logits for AUROC calculation\n",
        "        preds = torch.argmax(logits, axis=1).flatten()\n",
        "\n",
        "        pred_list.extend(preds) # Use extend to accumulate predictions\n",
        "        label_list.extend(labels) # Use extend to accumulate labels\n",
        "        logit_list.extend(logits) # Use extend to accumulate logits\n",
        "\n",
        "        val_accuracy.append(Accuracy(task='multiclass', num_classes=6)(preds, labels))\n",
        "        val_precision.append(Precision(task='multiclass', num_classes=6)(preds, labels))\n",
        "        val_recall.append(Recall(task='multiclass', num_classes=6)(preds, labels))\n",
        "        val_auroc.append(AUROC(task='multiclass', num_classes=6)(logits, labels)) # Calculate AUROC here using logits\n",
        "\n",
        "    all_preds[f'epoch_{_}'] = pred_list\n",
        "    all_labels[f'epoch_{_}'] = label_list\n",
        "    all_logits[f'epoch_{_}'] = logit_list\n",
        "\n",
        "    # Calculate AUROC after accumulating all predictions and labels for the epoch\n",
        "    val_auroc = AUROC(task='multiclass', num_classes=6)(torch.stack(logit_list), torch.stack(label_list))\n",
        "\n",
        "    print('\\n\\t - Train loss: {:.4f}'.format(training_loss / nb_tr_steps))\n",
        "    print('\\t - Validation Accuracy: {:.4f}'.format(torch.mean(torch.tensor(val_accuracy))))\n",
        "    print('\\t - Validation Precision: {:.4f}'.format(torch.mean(torch.tensor(val_precision))))\n",
        "    print('\\t - Validation Recall: {:.4f}'.format(torch.mean(torch.tensor(val_recall))))\n",
        "    print('\\t - Validation AUROC: {:.4f}'.format(val_auroc)) # Print AUROC for the epoch"
      ],
      "metadata": {
        "colab": {
          "base_uri": "https://localhost:8080/"
        },
        "id": "LCBCWtcWAU15",
        "outputId": "61922e6d-f209-42dd-c5c1-c30f5c46bcc1"
      },
      "execution_count": null,
      "outputs": [
        {
          "output_type": "stream",
          "name": "stderr",
          "text": [
            "\r  0%|          | 0/1 [00:00<?, ?it/s]"
          ]
        }
      ]
    },
    {
      "cell_type": "code",
      "source": [],
      "metadata": {
        "id": "ccy1we5XGkC4"
      },
      "execution_count": 184,
      "outputs": []
    },
    {
      "cell_type": "code",
      "source": [
        "epoch_key = 'epoch_1'  # Change this to access a different epoch's results\n",
        "preds = all_preds[epoch_key]\n",
        "labels = all_labels[epoch_key]\n",
        "\n",
        "# Create the confusion matrix\n",
        "cm = confusion_matrix(labels, preds)\n",
        "\n",
        "# Plot the confusion matrix\n",
        "plt.figure(figsize=(5, 5))\n",
        "sns.heatmap(cm, annot=True, fmt='d', cmap='BuGn', cbar=False,\n",
        "            xticklabels=['none', 'gender', 'religion', 'ethnicity', 'age', 'other'],\n",
        "            yticklabels=['none', 'gender', 'religion', 'ethnicity', 'age', 'other'])\n",
        "plt.xlabel('Predicted')\n",
        "plt.ylabel('True')\n",
        "plt.tight_layout()\n",
        "plt.show()"
      ],
      "metadata": {
        "colab": {
          "base_uri": "https://localhost:8080/",
          "height": 507
        },
        "id": "yZaNCD3IdjGw",
        "outputId": "a677b274-2dc1-4e41-b099-19e6e07d7265"
      },
      "execution_count": 185,
      "outputs": [
        {
          "output_type": "display_data",
          "data": {
            "text/plain": [
              "<Figure size 500x500 with 1 Axes>"
            ],
            "image/png": "[encoded data removed]"
          },
          "metadata": {}
        }
      ]
    },
    {
      "cell_type": "code",
      "source": [
        "epoch_key = 'epoch_0'  # Change this to access a different epoch's results\n",
        "preds = all_preds[epoch_key]\n",
        "labels = all_labels[epoch_key]\n",
        "\n",
        "# Create the confusion matrix\n",
        "cm = confusion_matrix(labels, preds)\n",
        "\n",
        "# Plot the confusion matrix\n",
        "plt.figure(figsize=(5, 5))\n",
        "sns.heatmap(cm, annot=True, fmt='d', cmap='BuGn', cbar=False,\n",
        "            xticklabels=['none', 'gender', 'religion', 'ethnicity', 'age', 'other'],\n",
        "            yticklabels=['none', 'gender', 'religion', 'ethnicity', 'age', 'other'])\n",
        "plt.xlabel('Predicted')\n",
        "plt.ylabel('True')\n",
        "plt.tight_layout()\n",
        "plt.show()"
      ],
      "metadata": {
        "colab": {
          "base_uri": "https://localhost:8080/",
          "height": 507
        },
        "id": "Wl1coZ8qd-q5",
        "outputId": "552864ef-6028-433c-c302-9be5419ad844"
      },
      "execution_count": 186,
      "outputs": [
        {
          "output_type": "display_data",
          "data": {
            "text/plain": [
              "<Figure size 500x500 with 1 Axes>"
            ],
            "image/png": "[encoded data removed]"
          },
          "metadata": {}
        }
      ]
    },
    {
      "cell_type": "code",
      "source": [
        "from sklearn.metrics import classification_report, confusion_matrix\n",
        "\n",
        "classification_report(labels, preds, target_names=['none', 'gender', 'religion', 'ethnicity', 'age', 'other'])"
      ],
      "metadata": {
        "colab": {
          "base_uri": "https://localhost:8080/",
          "height": 141
        },
        "id": "8LmItK_ijA46",
        "outputId": "f4ec6f5e-d2fe-4517-ee6e-7e026567b0a1"
      },
      "execution_count": 188,
      "outputs": [
        {
          "output_type": "error",
          "ename": "NameError",
          "evalue": "name 'classification_report' is not defined",
          "traceback": [
            "\u001b[0;31m---------------------------------------------------------------------------\u001b[0m",
            "\u001b[0;31mNameError\u001b[0m                                 Traceback (most recent call last)",
            "\u001b[0;32m<ipython-input-188-341209931c93>\u001b[0m in \u001b[0;36m<cell line: 1>\u001b[0;34m()\u001b[0m\n\u001b[0;32m----> 1\u001b[0;31m \u001b[0mclassification_report\u001b[0m\u001b[0;34m(\u001b[0m\u001b[0mlabels\u001b[0m\u001b[0;34m,\u001b[0m \u001b[0mpreds\u001b[0m\u001b[0;34m,\u001b[0m \u001b[0mtarget_names\u001b[0m\u001b[0;34m=\u001b[0m\u001b[0;34m[\u001b[0m\u001b[0;34m'none'\u001b[0m\u001b[0;34m,\u001b[0m \u001b[0;34m'gender'\u001b[0m\u001b[0;34m,\u001b[0m \u001b[0;34m'religion'\u001b[0m\u001b[0;34m,\u001b[0m \u001b[0;34m'ethnicity'\u001b[0m\u001b[0;34m,\u001b[0m \u001b[0;34m'age'\u001b[0m\u001b[0;34m,\u001b[0m \u001b[0;34m'other'\u001b[0m\u001b[0;34m]\u001b[0m\u001b[0;34m)\u001b[0m\u001b[0;34m\u001b[0m\u001b[0;34m\u001b[0m\u001b[0m\n\u001b[0m",
            "\u001b[0;31mNameError\u001b[0m: name 'classification_report' is not defined"
          ]
        }
      ]
    },
    {
      "cell_type": "code",
      "source": [
        "# prompt: generate the same thing but this time using RoBERTa\n",
        "\n",
        "from transformers import RobertaTokenizer, RobertaForSequenceClassification\n",
        "# ... (rest of your imports and data preprocessing code)\n",
        "\n",
        "# ### Tokenization\n",
        "tokenizer = RobertaTokenizer.from_pretrained('roberta-base')\n",
        "\n",
        "# ... (rest of your tokenization code, using the RobertaTokenizer)\n",
        "\n",
        "# ### Model Initialization\n",
        "model = RobertaForSequenceClassification.from_pretrained(\n",
        "    'roberta-base',\n",
        "    num_labels=6,\n",
        "    output_attentions=False,\n",
        "    output_hidden_states=False\n",
        ")\n",
        "\n",
        "# ... (rest of your model training and evaluation code)\n",
        "# Make sure to replace BertForSequenceClassification with RobertaForSequenceClassification\n",
        "# and adjust hyperparameters if necessary."
      ],
      "metadata": {
        "id": "2lky_OdfobY7"
      },
      "execution_count": null,
      "outputs": []
    }
  ]
}