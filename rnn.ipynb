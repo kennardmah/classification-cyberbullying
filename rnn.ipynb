{
  "cells": [
    {
      "cell_type": "markdown",
      "metadata": {
        "id": "view-in-github",
        "colab_type": "text"
      },
      "source": [
        "<a href=\"https://colab.research.google.com/github/kennardmah/classification-cyberbullying/blob/main/rnn.ipynb\" target=\"_parent\"><img src=\"https://colab.research.google.com/assets/colab-badge.svg\" alt=\"Open In Colab\"/></a>"
      ]
    },
    {
      "cell_type": "code",
      "source": [
        "# !pip install emoji\n",
        "\n",
        "import torch\n",
        "import torch.nn as nn\n",
        "from torch.utils.data import TensorDataset, DataLoader, RandomSampler, SequentialSampler\n",
        "from sklearn.model_selection import train_test_split\n",
        "from sklearn.metrics import classification_report\n",
        "import pandas as pd\n",
        "import numpy as np\n",
        "import seaborn as sns\n",
        "import matplotlib.pyplot as plt\n",
        "from tqdm import tqdm\n",
        "from collections import Counter\n",
        "from gensim.models import Word2Vec\n",
        "from imblearn.over_sampling import RandomOverSampler\n",
        "import re\n",
        "import string\n",
        "import emoji\n",
        "from nltk.stem import WordNetLemmatizer\n",
        "from nltk.corpus import stopwords"
      ],
      "metadata": {
        "colab": {
          "base_uri": "https://localhost:8080/"
        },
        "id": "TUhRbH5HJghV",
        "outputId": "c9fa107e-fb76-4609-853e-a222e3b4619c"
      },
      "execution_count": 2,
      "outputs": [
        {
          "output_type": "stream",
          "name": "stdout",
          "text": [
            "Collecting emoji\n",
            "  Downloading emoji-2.14.0-py3-none-any.whl.metadata (5.7 kB)\n",
            "Downloading emoji-2.14.0-py3-none-any.whl (586 kB)\n",
            "\u001b[?25l   \u001b[90m━━━━━━━━━━━━━━━━━━━━━━━━━━━━━━━━━━━━━━━━\u001b[0m \u001b[32m0.0/586.9 kB\u001b[0m \u001b[31m?\u001b[0m eta \u001b[36m-:--:--\u001b[0m\r\u001b[2K   \u001b[91m━━━━━━━━━━━\u001b[0m\u001b[91m╸\u001b[0m\u001b[90m━━━━━━━━━━━━━━━━━━━━━━━━━━━━\u001b[0m \u001b[32m174.1/586.9 kB\u001b[0m \u001b[31m5.0 MB/s\u001b[0m eta \u001b[36m0:00:01\u001b[0m\r\u001b[2K   \u001b[91m━━━━━━━━━━━━━━━━━━━━━━━━━━━━━━━━━━━━━━━\u001b[0m\u001b[91m╸\u001b[0m \u001b[32m583.7/586.9 kB\u001b[0m \u001b[31m10.4 MB/s\u001b[0m eta \u001b[36m0:00:01\u001b[0m\r\u001b[2K   \u001b[90m━━━━━━━━━━━━━━━━━━━━━━━━━━━━━━━━━━━━━━━━\u001b[0m \u001b[32m586.9/586.9 kB\u001b[0m \u001b[31m8.0 MB/s\u001b[0m eta \u001b[36m0:00:00\u001b[0m\n",
            "\u001b[?25hInstalling collected packages: emoji\n",
            "Successfully installed emoji-2.14.0\n"
          ]
        }
      ]
    },
    {
      "cell_type": "code",
      "source": [
        "from google.colab import drive\n",
        "drive.mount('/content/drive')"
      ],
      "metadata": {
        "colab": {
          "base_uri": "https://localhost:8080/"
        },
        "id": "6uHxnGOwKA21",
        "outputId": "4ba3f375-0d56-40e9-cabf-e4afc87f0e8b"
      },
      "execution_count": 4,
      "outputs": [
        {
          "output_type": "stream",
          "name": "stdout",
          "text": [
            "Mounted at /content/drive\n"
          ]
        }
      ]
    },
    {
      "cell_type": "code",
      "source": [
        "# Preprocessing functions\n",
        "import nltk\n",
        "# nltk.download('stopwords')\n",
        "# nltk.download('punkt')\n",
        "# nltk.download('wordnet')\n",
        "# nltk.download('omw-1.4')\n",
        "\n",
        "def remove_emojis(text):\n",
        "    text = emoji.demojize(text)\n",
        "    return text.replace(':', ' ')\n",
        "\n",
        "def remove_urls(text):\n",
        "    return re.sub(r'https?://\\S+|www\\.\\S+', '', text)\n",
        "\n",
        "def remove_html(text):\n",
        "    return re.sub(r'<.*?>', '', text)\n",
        "\n",
        "def remove_punctuations(text):\n",
        "    return text.translate(str.maketrans('', '', string.punctuation))\n",
        "\n",
        "def remove_stopwords(text):\n",
        "    stop_words = set(stopwords.words('english'))\n",
        "    return ' '.join(word for word in text.split() if word.lower() not in stop_words)\n",
        "\n",
        "def preprocess_text(text):\n",
        "    text = remove_emojis(text)\n",
        "    text = remove_urls(text)\n",
        "    text = remove_html(text)\n",
        "    text = remove_punctuations(text)\n",
        "    text = remove_stopwords(text)\n",
        "    return text\n",
        "\n",
        "# Load and preprocess data\n",
        "data_path = '/content/drive/MyDrive/ADL/PAPER/cyberbullying_tweets.csv.zip'\n",
        "df = pd.read_csv(data_path)\n",
        "df = df.rename(columns={'tweet_text': 'text', 'cyberbullying_type': 'sentiment'})\n",
        "df = df.drop_duplicates()\n",
        "df['sentiment'] = df['sentiment'].replace(['other_cyberbullying'], 'other')\n",
        "df['sentiment'] = df['sentiment'].replace(['not_cyberbullying'], 'none')\n",
        "\n",
        "# Preprocess text\n",
        "df['text'] = df['text'].apply(preprocess_text)\n",
        "df['tweet_length'] = df['text'].apply(lambda x: len(x.split()))\n",
        "\n",
        "df = df[df['tweet_length'] <= 30]\n",
        "df.drop('tweet_length', axis=1, inplace=True)"
      ],
      "metadata": {
        "colab": {
          "base_uri": "https://localhost:8080/"
        },
        "id": "0RDzUXM4JkHY",
        "outputId": "4def010e-bbc7-4089-bb12-bd9ed14fe95e"
      },
      "execution_count": 9,
      "outputs": [
        {
          "output_type": "stream",
          "name": "stderr",
          "text": [
            "<ipython-input-9-abbdae5bc8df>:46: SettingWithCopyWarning: \n",
            "A value is trying to be set on a copy of a slice from a DataFrame\n",
            "\n",
            "See the caveats in the documentation: https://pandas.pydata.org/pandas-docs/stable/user_guide/indexing.html#returning-a-view-versus-a-copy\n",
            "  df.drop('tweet_length', axis=1, inplace=True)\n"
          ]
        }
      ]
    },
    {
      "cell_type": "code",
      "source": [
        "# Tokenization\n",
        "def Tokenize(df, max_length):\n",
        "    corpus = df['text'].str.cat(sep=' ').split()\n",
        "    count_words = Counter(corpus)\n",
        "    vocab_to_int = {w: i + 1 for i, (w, _) in enumerate(count_words.most_common())}\n",
        "    token_ids = [[vocab_to_int.get(word, 0) for word in text.split()] for text in df['text']]\n",
        "    token_ids = [ids[:max_length] + [0] * (max_length - len(ids)) for ids in token_ids]\n",
        "    return torch.tensor(token_ids), vocab_to_int\n",
        "\n",
        "labels = df['sentiment'].map({'none': 0, 'gender': 1, 'religion': 2, 'ethnicity': 3, 'age': 4, 'other': 5}).values\n",
        "labels = torch.tensor(labels)\n",
        "\n",
        "token_ids, vocab_to_int = Tokenize(df, max_length=30)"
      ],
      "metadata": {
        "id": "Nunp6JYdJlxJ"
      },
      "execution_count": 10,
      "outputs": []
    },
    {
      "cell_type": "code",
      "source": [
        "# Word2Vec embedding\n",
        "word2vec_model = Word2Vec([text.split() for text in df['text']], vector_size=100)\n",
        "embedding_matrix = np.zeros((len(vocab_to_int) + 1, 100))\n",
        "for word, i in vocab_to_int.items():\n",
        "    if word in word2vec_model.wv:\n",
        "        embedding_matrix[i] = word2vec_model.wv[word]\n",
        "\n",
        "# Split data\n",
        "X_train, X_temp, y_train, y_temp = train_test_split(token_ids, labels, test_size=0.4, stratify=labels)\n",
        "X_val, X_test, y_val, y_test = train_test_split(X_temp, y_temp, test_size=0.5, stratify=y_temp)\n",
        "\n",
        "# Oversample training data\n",
        "ros = RandomOverSampler()\n",
        "X_train, y_train = ros.fit_resample(X_train.numpy(), y_train.numpy())\n",
        "X_train, y_train = torch.tensor(X_train), torch.tensor(y_train)\n",
        "\n",
        "# Create DataLoaders\n",
        "train_loader = DataLoader(TensorDataset(X_train, y_train), batch_size=16, shuffle=True)\n",
        "valid_loader = DataLoader(TensorDataset(X_val, y_val), batch_size=16)\n",
        "test_loader = DataLoader(TensorDataset(X_test, y_test), batch_size=16)"
      ],
      "metadata": {
        "id": "LfuPWAUeJoZW"
      },
      "execution_count": 11,
      "outputs": []
    },
    {
      "cell_type": "code",
      "execution_count": 12,
      "metadata": {
        "id": "MFxMyijInWWs"
      },
      "outputs": [],
      "source": [
        "# Define LSTM model with attention\n",
        "class Attention(nn.Module):\n",
        "    def __init__(self, hidden_dim, bidirectional):\n",
        "        super().__init__()\n",
        "        self.attention = nn.Linear(hidden_dim * (2 if bidirectional else 1), 1)\n",
        "\n",
        "    def forward(self, lstm_output):\n",
        "        weights = torch.softmax(self.attention(lstm_output), dim=1)\n",
        "        context = torch.sum(weights * lstm_output, dim=1)\n",
        "        return context\n",
        "\n",
        "class LSTMClassifier(nn.Module):\n",
        "    def __init__(self, vocab_size, embedding_dim, hidden_dim, output_dim, n_layers, bidirectional, dropout, pad_idx):\n",
        "        super().__init__()\n",
        "        self.embedding = nn.Embedding(vocab_size, embedding_dim, padding_idx=pad_idx)\n",
        "        self.lstm = nn.LSTM(embedding_dim, hidden_dim, num_layers=n_layers, bidirectional=bidirectional, dropout=dropout, batch_first=True)\n",
        "        self.attention = Attention(hidden_dim, bidirectional)\n",
        "        self.fc = nn.Linear(hidden_dim * (2 if bidirectional else 1), output_dim)\n",
        "\n",
        "    def forward(self, text):\n",
        "        embedded = self.embedding(text)\n",
        "        lstm_output, _ = self.lstm(embedded)\n",
        "        context = self.attention(lstm_output)\n",
        "        return self.fc(context)\n",
        "\n"
      ]
    },
    {
      "cell_type": "code",
      "source": [
        "# Initialize model\n",
        "model = LSTMClassifier(len(vocab_to_int) + 1, 100, 128, len(df['sentiment'].unique()), 2, True, 0.5, 0)\n",
        "model.embedding.weight.data.copy_(torch.from_numpy(embedding_matrix))\n",
        "criterion = nn.CrossEntropyLoss()\n",
        "optimizer = torch.optim.Adam(model.parameters(), lr=0.001)\n",
        "\n",
        "# Training loop\n",
        "def train_model(model, train_loader, valid_loader, criterion, optimizer, epochs=10):\n",
        "    best_val_loss = float('inf')\n",
        "    for epoch in tqdm(range(epochs)):\n",
        "        model.train()\n",
        "        train_loss, correct_train = 0, 0\n",
        "        for inputs, labels in train_loader:\n",
        "            optimizer.zero_grad()\n",
        "            outputs = model(inputs)\n",
        "            loss = criterion(outputs, labels)\n",
        "            loss.backward()\n",
        "            optimizer.step()\n",
        "\n",
        "            train_loss += loss.item()\n",
        "            correct_train += (outputs.argmax(1) == labels).sum().item()\n",
        "\n",
        "        model.eval()\n",
        "        valid_loss, correct_val = 0, 0\n",
        "        with torch.no_grad():\n",
        "            for inputs, labels in valid_loader:\n",
        "                outputs = model(inputs)\n",
        "                loss = criterion(outputs, labels)\n",
        "                valid_loss += loss.item()\n",
        "                correct_val += (outputs.argmax(1) == labels).sum().item()\n",
        "\n",
        "        print(f\"Epoch {epoch+1}/{epochs}: Train Loss={train_loss/len(train_loader):.4f}, Train Acc={correct_train/len(train_loader.dataset):.4f}, Val Loss={valid_loss/len(valid_loader):.4f}, Val Acc={correct_val/len(valid_loader.dataset):.4f}\")\n",
        "\n",
        "        if valid_loss < best_val_loss:\n",
        "            best_val_loss = valid_loss\n",
        "            torch.save(model.state_dict(), 'best_model.pth')\n",
        "\n",
        "train_model(model, train_loader, valid_loader, criterion, optimizer)"
      ],
      "metadata": {
        "colab": {
          "base_uri": "https://localhost:8080/"
        },
        "id": "9Y-_XaYgJr0S",
        "outputId": "61768cf0-37b5-4902-f812-d81e6655b40a"
      },
      "execution_count": 13,
      "outputs": [
        {
          "output_type": "stream",
          "name": "stdout",
          "text": [
            "Epoch 1/10: Train Loss=0.5857, Train Acc=0.7558, Val Loss=0.4771, Val Acc=0.7880\n",
            "Epoch 2/10: Train Loss=0.3111, Train Acc=0.8802, Val Loss=0.4560, Val Acc=0.8193\n",
            "Epoch 3/10: Train Loss=0.1490, Train Acc=0.9439, Val Loss=0.5908, Val Acc=0.8027\n",
            "Epoch 4/10: Train Loss=0.0899, Train Acc=0.9589, Val Loss=0.7535, Val Acc=0.7960\n",
            "Epoch 5/10: Train Loss=0.0675, Train Acc=0.9662, Val Loss=0.8721, Val Acc=0.7909\n",
            "Epoch 6/10: Train Loss=0.0572, Train Acc=0.9695, Val Loss=1.0147, Val Acc=0.7904\n",
            "Epoch 7/10: Train Loss=0.0512, Train Acc=0.9706, Val Loss=1.0632, Val Acc=0.7828\n",
            "Epoch 8/10: Train Loss=0.0477, Train Acc=0.9731, Val Loss=1.0556, Val Acc=0.7805\n",
            "Epoch 9/10: Train Loss=0.0436, Train Acc=0.9736, Val Loss=1.2416, Val Acc=0.7809\n",
            "Epoch 10/10: Train Loss=0.0432, Train Acc=0.9733, Val Loss=1.2470, Val Acc=0.7768\n"
          ]
        }
      ]
    },
    {
      "cell_type": "code",
      "source": [
        "from sklearn.metrics import confusion_matrix, ConfusionMatrixDisplay\n",
        "import matplotlib.pyplot as plt"
      ],
      "metadata": {
        "id": "sbMgjzeHSEXR"
      },
      "execution_count": 16,
      "outputs": []
    },
    {
      "cell_type": "code",
      "source": [
        "# Evaluate on test set\n",
        "def evaluate_model(model, test_loader):\n",
        "    all_preds = []\n",
        "    all_labels = []\n",
        "    model.load_state_dict(torch.load('best_model.pth'))\n",
        "    model.eval()\n",
        "    test_loss, correct = 0, 0\n",
        "    with torch.no_grad():\n",
        "        for inputs, labels in tqdm(test_loader):\n",
        "            outputs = model(inputs)\n",
        "            test_loss += criterion(outputs, labels).item()\n",
        "            correct += (outputs.argmax(1) == labels).sum().item()\n",
        "            all_preds.extend(outputs.argmax(1).cpu().numpy())\n",
        "            all_labels.extend(labels.cpu().numpy())\n",
        "    print(classification_report(all_labels, all_preds))\n",
        "    cm = confusion_matrix(all_labels, all_preds, labels=range(len(df['sentiment'].unique())))\n",
        "    print(f\"Test Loss={test_loss/len(test_loader):.4f}, Test Acc={correct/len(test_loader.dataset):.4f}\")\n",
        "    # Plot the confusion matrix\n",
        "    plt.figure(figsize=(5, 5))\n",
        "    sns.heatmap(cm, annot=True, fmt='d', cmap='BuGn', cbar=False,\n",
        "                xticklabels=['none', 'gender', 'religion', 'ethnicity', 'age', 'other'],\n",
        "                yticklabels=['none', 'gender', 'religion', 'ethnicity', 'age', 'other'])\n",
        "    plt.xlabel('Predicted')\n",
        "    plt.ylabel('True')\n",
        "    plt.tight_layout()\n",
        "    plt.show()\n",
        "\n",
        "evaluate_model(model, test_loader)"
      ],
      "metadata": {
        "colab": {
          "base_uri": "https://localhost:8080/",
          "height": 822
        },
        "id": "dQ5rSPbGQIGG",
        "outputId": "317afafd-97e3-49d5-8231-0537887b5101"
      },
      "execution_count": 19,
      "outputs": [
        {
          "output_type": "stream",
          "name": "stderr",
          "text": [
            "<ipython-input-19-9de4b5444c5b>:5: FutureWarning: You are using `torch.load` with `weights_only=False` (the current default value), which uses the default pickle module implicitly. It is possible to construct malicious pickle data which will execute arbitrary code during unpickling (See https://github.com/pytorch/pytorch/blob/main/SECURITY.md#untrusted-models for more details). In a future release, the default value for `weights_only` will be flipped to `True`. This limits the functions that could be executed during unpickling. Arbitrary objects will no longer be allowed to be loaded via this mode unless they are explicitly allowlisted by the user via `torch.serialization.add_safe_globals`. We recommend you start setting `weights_only=True` for any use case where you don't have full control of the loaded file. Please open an issue on GitHub for any issues related to this experimental feature.\n",
            "  model.load_state_dict(torch.load('best_model.pth'))\n",
            "100%|██████████| 581/581 [00:08<00:00, 69.12it/s]\n"
          ]
        },
        {
          "output_type": "stream",
          "name": "stdout",
          "text": [
            "              precision    recall  f1-score   support\n",
            "\n",
            "           0       0.58      0.55      0.57      1587\n",
            "           1       0.83      0.89      0.86      1548\n",
            "           2       0.93      0.95      0.94      1519\n",
            "           3       0.96      0.97      0.96      1528\n",
            "           4       0.96      0.97      0.96      1541\n",
            "           5       0.64      0.61      0.62      1563\n",
            "\n",
            "    accuracy                           0.82      9286\n",
            "   macro avg       0.82      0.82      0.82      9286\n",
            "weighted avg       0.82      0.82      0.82      9286\n",
            "\n",
            "Test Loss=0.4605, Test Acc=0.8206\n"
          ]
        },
        {
          "output_type": "display_data",
          "data": {
            "text/plain": [
              "<Figure size 500x500 with 1 Axes>"
            ],
            "image/png": "[encoded data removed]"
          },
          "metadata": {}
        }
      ]
    },
    {
      "cell_type": "code",
      "source": [
        "# plot evaluation\n",
        "train_losses = []  # Store training loss after each epoch\n",
        "val_losses = []    # Store validation loss after each epoch\n",
        "# Add these lists into your training loop and update each epoch:\n",
        "# train_losses.append(train_loss / len(train_loader))\n",
        "# val_losses.append(valid_loss / len(valid_loader))\n",
        "\n",
        "plt.plot(train_losses, label='Training Loss')\n",
        "plt.plot(val_losses, label='Validation Loss')\n",
        "plt.xlabel('Epochs')\n",
        "plt.ylabel('Loss')\n",
        "plt.title('Training and Validation Loss')\n",
        "plt.legend()\n",
        "plt.show()\n",
        "\n",
        "from sklearn.metrics import confusion_matrix, ConfusionMatrixDisplay\n",
        "\n",
        "# Collect true and predicted labels\n",
        "all_preds = []\n",
        "all_labels = []\n",
        "\n",
        "model.eval()\n",
        "with torch.no_grad():\n",
        "    for inputs, labels in test_loader:\n",
        "        outputs = model(inputs)\n",
        "        preds = outputs.argmax(1).cpu().numpy()\n",
        "        all_preds.extend(preds)\n",
        "        all_labels.extend(labels.cpu().numpy())\n",
        "\n",
        "cm = confusion_matrix(all_labels, all_preds, labels=range(len(df['sentiment'].unique())))\n",
        "disp = ConfusionMatrixDisplay(confusion_matrix=cm, display_labels=df['sentiment'].unique())\n",
        "disp.plot(cmap=plt.cm.Blues)\n",
        "plt.title('Confusion Matrix')\n",
        "plt.show()\n"
      ],
      "metadata": {
        "id": "5azq_jUMPa3z"
      },
      "execution_count": null,
      "outputs": []
    }
  ],
  "metadata": {
    "accelerator": "GPU",
    "colab": {
      "gpuType": "T4",
      "provenance": [],
      "authorship_tag": "ABX9TyNh52N+rVs3ZJkn593n32pw",
      "include_colab_link": true
    },
    "kernelspec": {
      "display_name": "Python 3",
      "name": "python3"
    },
    "language_info": {
      "name": "python"
    }
  },
  "nbformat": 4,
  "nbformat_minor": 0
}